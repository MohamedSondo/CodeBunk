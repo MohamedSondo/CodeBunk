{
  "nbformat": 4,
  "nbformat_minor": 0,
  "metadata": {
    "colab": {
      "name": "homework3.ipynb",
      "version": "0.3.2",
      "provenance": [],
      "collapsed_sections": [],
      "include_colab_link": true
    },
    "kernelspec": {
      "display_name": "Python 3",
      "language": "python",
      "name": "python3"
    }
  },
  "cells": [
    {
      "cell_type": "markdown",
      "metadata": {
        "id": "view-in-github",
        "colab_type": "text"
      },
      "source": [
        "<a href=\"https://colab.research.google.com/github/MohamedSondo/CodeBunk/blob/master/homework3.ipynb\" target=\"_parent\"><img src=\"https://colab.research.google.com/assets/colab-badge.svg\" alt=\"Open In Colab\"/></a>"
      ]
    },
    {
      "metadata": {
        "colab_type": "code",
        "id": "DtjsqIYLsMc4",
        "colab": {}
      },
      "cell_type": "code",
      "source": [
        "from sklearn.datasets import load_iris\n",
        "from sklearn.neighbors import KNeighborsClassifier\n",
        "from sklearn.metrics import classification_report, confusion_matrix  \n",
        "from sklearn import metrics\n",
        "from sklearn.model_selection import train_test_split  \n",
        "from sklearn.neighbors import KNeighborsClassifier  \n",
        "from sklearn.preprocessing import StandardScaler  \n",
        "\n",
        "import csv\n",
        "import random\n",
        "import math\n",
        "import operator\n",
        "import numpy as np  \n",
        "import matplotlib.pyplot as plt  \n",
        "import pandas as pd \n"
      ],
      "execution_count": 0,
      "outputs": []
    },
    {
      "metadata": {
        "colab_type": "code",
        "id": "9_ThH1A9AfNm",
        "colab": {}
      },
      "cell_type": "code",
      "source": [
        "url = \"https://archive.ics.uci.edu/ml/machine-learning-databases/iris/iris.data\"\n",
        "\n",
        "# Assign colum names to the dataset\n",
        "names = ['sepal-length', 'sepal-width', 'petal-length', 'petal-width', 'Class']\n",
        "\n",
        "# Read dataset to pandas dataframe\n",
        "dataset = pd.read_csv(url, names=names)  \n",
        "#dataset.to_csv('iris.csv')"
      ],
      "execution_count": 0,
      "outputs": []
    },
    {
      "metadata": {
        "colab_type": "text",
        "id": "EhU6w5V-Z9Ui"
      },
      "cell_type": "markdown",
      "source": [
        "**KNN from scratch**"
      ]
    },
    {
      "metadata": {
        "colab_type": "code",
        "id": "kB_VMO92Zq1S",
        "outputId": "7c721d7e-3bce-449c-f549-a207dce74182",
        "colab": {
          "base_uri": "https://localhost:8080/",
          "height": 884
        }
      },
      "cell_type": "code",
      "source": [
        " \n",
        "def loadDataset(filename, split, trainingSet=[] , testSet=[]):\n",
        "\twith open(filename, 'r') as csvfile:\n",
        "\t    lines = csv.reader(csvfile)\n",
        "\t    dataset = list(lines)\n",
        "\t    for x in range(len(dataset)-1):\n",
        "\t        for y in range(4):\n",
        "\t            dataset[x][y] = float(dataset[x][y])\n",
        "\t        if random.random() < split:\n",
        "\t            trainingSet.append(dataset[x])\n",
        "\t        else:\n",
        "\t            testSet.append(dataset[x])\n",
        " \n",
        " \n",
        "def euclideanDistance(instance1, instance2, length):\n",
        "\tdistance = 0\n",
        "\tfor x in range(length):\n",
        "\t\tdistance += pow((instance1[x] - instance2[x]), 2)\n",
        "\treturn math.sqrt(distance)\n",
        " \n",
        "def getNeighbors(trainingSet, testInstance, k):\n",
        "\tdistances = []\n",
        "\tlength = len(testInstance)-1\n",
        "\tfor x in range(len(trainingSet)):\n",
        "\t\tdist = euclideanDistance(testInstance, trainingSet[x], length)\n",
        "\t\tdistances.append((trainingSet[x], dist))\n",
        "\tdistances.sort(key=operator.itemgetter(1))\n",
        "\tneighbors = []\n",
        "\tfor x in range(k):\n",
        "\t\tneighbors.append(distances[x][0])\n",
        "\treturn neighbors\n",
        " \n",
        "def getResponse(neighbors):\n",
        "\tclassVotes = {}\n",
        "\tfor x in range(len(neighbors)):\n",
        "\t\tresponse = neighbors[x][-1]\n",
        "\t\tif response in classVotes:\n",
        "\t\t\tclassVotes[response] += 1\n",
        "\t\telse:\n",
        "\t\t\tclassVotes[response] = 1\n",
        "\tsortedVotes = sorted(classVotes.items(), key=operator.itemgetter(1), reverse=True)\n",
        "\treturn sortedVotes[0][0]\n",
        " \n",
        "def getAccuracy(testSet, predictions):\n",
        "\tcorrect = 0\n",
        "\tfor x in range(len(testSet)):\n",
        "\t\tif testSet[x][-1] == predictions[x]:\n",
        "\t\t\tcorrect += 1\n",
        "\treturn (correct/float(len(testSet))) * 100.0\n",
        "\t\n",
        "def knn():\n",
        "\t# prepare data\n",
        "\ttrainingSet=[]\n",
        "\ttestSet=[]\n",
        "\tsplit = 0.67\n",
        "\tloadDataset('iris.csv', split, trainingSet, testSet)\n",
        "\tprint('Train set: ' + repr(len(trainingSet)))\n",
        "\tprint('Test set: ' + repr(len(testSet)))\n",
        "  #print(trainingSet)\n",
        "\t# generate predictions\n",
        "\tpredictions=[]\n",
        "  \n",
        "\tk = int(input('Enter K Value '))\n",
        "\tfor x in range(len(testSet)):\n",
        "\t\tneighbors = getNeighbors(trainingSet, testSet[x], k)\n",
        "\t\tresult = getResponse(neighbors)\n",
        "\t\tpredictions.append(result)\n",
        "    #print(predictions)\n",
        "\t\tprint('> predicted=' + repr(result) + ', actual=' + repr(testSet[x][-1]))\n",
        "\taccuracy = getAccuracy(testSet, predictions)\n",
        "\tprint('Accuracy: ' + repr(accuracy) + '%')\n",
        "\t\n",
        "knn()"
      ],
      "execution_count": 57,
      "outputs": [
        {
          "output_type": "stream",
          "text": [
            "Train set: 103\n",
            "Test set: 47\n",
            "Enter K Value 5\n",
            "> predicted='Iris-setosa', actual='Iris-setosa'\n",
            "> predicted='Iris-setosa', actual='Iris-setosa'\n",
            "> predicted='Iris-setosa', actual='Iris-setosa'\n",
            "> predicted='Iris-setosa', actual='Iris-setosa'\n",
            "> predicted='Iris-setosa', actual='Iris-setosa'\n",
            "> predicted='Iris-setosa', actual='Iris-setosa'\n",
            "> predicted='Iris-setosa', actual='Iris-setosa'\n",
            "> predicted='Iris-setosa', actual='Iris-setosa'\n",
            "> predicted='Iris-setosa', actual='Iris-setosa'\n",
            "> predicted='Iris-setosa', actual='Iris-setosa'\n",
            "> predicted='Iris-setosa', actual='Iris-setosa'\n",
            "> predicted='Iris-setosa', actual='Iris-setosa'\n",
            "> predicted='Iris-setosa', actual='Iris-setosa'\n",
            "> predicted='Iris-setosa', actual='Iris-setosa'\n",
            "> predicted='Iris-setosa', actual='Iris-setosa'\n",
            "> predicted='Iris-setosa', actual='Iris-setosa'\n",
            "> predicted='Iris-setosa', actual='Iris-setosa'\n",
            "> predicted='Iris-versicolor', actual='Iris-versicolor'\n",
            "> predicted='Iris-versicolor', actual='Iris-versicolor'\n",
            "> predicted='Iris-versicolor', actual='Iris-versicolor'\n",
            "> predicted='Iris-versicolor', actual='Iris-versicolor'\n",
            "> predicted='Iris-versicolor', actual='Iris-versicolor'\n",
            "> predicted='Iris-versicolor', actual='Iris-versicolor'\n",
            "> predicted='Iris-versicolor', actual='Iris-versicolor'\n",
            "> predicted='Iris-versicolor', actual='Iris-versicolor'\n",
            "> predicted='Iris-versicolor', actual='Iris-versicolor'\n",
            "> predicted='Iris-versicolor', actual='Iris-versicolor'\n",
            "> predicted='Iris-virginica', actual='Iris-versicolor'\n",
            "> predicted='Iris-versicolor', actual='Iris-versicolor'\n",
            "> predicted='Iris-versicolor', actual='Iris-versicolor'\n",
            "> predicted='Iris-versicolor', actual='Iris-versicolor'\n",
            "> predicted='Iris-virginica', actual='Iris-virginica'\n",
            "> predicted='Iris-virginica', actual='Iris-virginica'\n",
            "> predicted='Iris-virginica', actual='Iris-virginica'\n",
            "> predicted='Iris-virginica', actual='Iris-virginica'\n",
            "> predicted='Iris-virginica', actual='Iris-virginica'\n",
            "> predicted='Iris-virginica', actual='Iris-virginica'\n",
            "> predicted='Iris-virginica', actual='Iris-virginica'\n",
            "> predicted='Iris-virginica', actual='Iris-virginica'\n",
            "> predicted='Iris-virginica', actual='Iris-virginica'\n",
            "> predicted='Iris-virginica', actual='Iris-virginica'\n",
            "> predicted='Iris-virginica', actual='Iris-virginica'\n",
            "> predicted='Iris-virginica', actual='Iris-virginica'\n",
            "> predicted='Iris-virginica', actual='Iris-virginica'\n",
            "> predicted='Iris-virginica', actual='Iris-virginica'\n",
            "> predicted='Iris-virginica', actual='Iris-virginica'\n",
            "> predicted='Iris-virginica', actual='Iris-virginica'\n",
            "Accuracy: 97.87234042553192%\n"
          ],
          "name": "stdout"
        }
      ]
    },
    {
      "metadata": {
        "colab_type": "text",
        "id": "JWDaszCqaLO-"
      },
      "cell_type": "markdown",
      "source": [
        "** KNN Using Sklearn Library **"
      ]
    },
    {
      "metadata": {
        "colab_type": "code",
        "id": "-_Y_94ZjAiAT",
        "outputId": "02ac5de6-1365-41bd-bf62-4ec7bf374da3",
        "colab": {
          "base_uri": "https://localhost:8080/",
          "height": 204
        }
      },
      "cell_type": "code",
      "source": [
        "dataset.head()  "
      ],
      "execution_count": 58,
      "outputs": [
        {
          "output_type": "execute_result",
          "data": {
            "text/html": [
              "<div>\n",
              "<style scoped>\n",
              "    .dataframe tbody tr th:only-of-type {\n",
              "        vertical-align: middle;\n",
              "    }\n",
              "\n",
              "    .dataframe tbody tr th {\n",
              "        vertical-align: top;\n",
              "    }\n",
              "\n",
              "    .dataframe thead th {\n",
              "        text-align: right;\n",
              "    }\n",
              "</style>\n",
              "<table border=\"1\" class=\"dataframe\">\n",
              "  <thead>\n",
              "    <tr style=\"text-align: right;\">\n",
              "      <th></th>\n",
              "      <th>sepal-length</th>\n",
              "      <th>sepal-width</th>\n",
              "      <th>petal-length</th>\n",
              "      <th>petal-width</th>\n",
              "      <th>Class</th>\n",
              "    </tr>\n",
              "  </thead>\n",
              "  <tbody>\n",
              "    <tr>\n",
              "      <th>0</th>\n",
              "      <td>5.1</td>\n",
              "      <td>3.5</td>\n",
              "      <td>1.4</td>\n",
              "      <td>0.2</td>\n",
              "      <td>Iris-setosa</td>\n",
              "    </tr>\n",
              "    <tr>\n",
              "      <th>1</th>\n",
              "      <td>4.9</td>\n",
              "      <td>3.0</td>\n",
              "      <td>1.4</td>\n",
              "      <td>0.2</td>\n",
              "      <td>Iris-setosa</td>\n",
              "    </tr>\n",
              "    <tr>\n",
              "      <th>2</th>\n",
              "      <td>4.7</td>\n",
              "      <td>3.2</td>\n",
              "      <td>1.3</td>\n",
              "      <td>0.2</td>\n",
              "      <td>Iris-setosa</td>\n",
              "    </tr>\n",
              "    <tr>\n",
              "      <th>3</th>\n",
              "      <td>4.6</td>\n",
              "      <td>3.1</td>\n",
              "      <td>1.5</td>\n",
              "      <td>0.2</td>\n",
              "      <td>Iris-setosa</td>\n",
              "    </tr>\n",
              "    <tr>\n",
              "      <th>4</th>\n",
              "      <td>5.0</td>\n",
              "      <td>3.6</td>\n",
              "      <td>1.4</td>\n",
              "      <td>0.2</td>\n",
              "      <td>Iris-setosa</td>\n",
              "    </tr>\n",
              "  </tbody>\n",
              "</table>\n",
              "</div>"
            ],
            "text/plain": [
              "   sepal-length  sepal-width  petal-length  petal-width        Class\n",
              "0           5.1          3.5           1.4          0.2  Iris-setosa\n",
              "1           4.9          3.0           1.4          0.2  Iris-setosa\n",
              "2           4.7          3.2           1.3          0.2  Iris-setosa\n",
              "3           4.6          3.1           1.5          0.2  Iris-setosa\n",
              "4           5.0          3.6           1.4          0.2  Iris-setosa"
            ]
          },
          "metadata": {
            "tags": []
          },
          "execution_count": 58
        }
      ]
    },
    {
      "metadata": {
        "colab_type": "code",
        "id": "DLHEWSkEAkMb",
        "colab": {}
      },
      "cell_type": "code",
      "source": [
        "X = dataset.iloc[:, :-1].values  \n",
        "y = dataset.iloc[:, 4].values  "
      ],
      "execution_count": 0,
      "outputs": []
    },
    {
      "metadata": {
        "colab_type": "code",
        "id": "QQtVUPC6Aohg",
        "colab": {}
      },
      "cell_type": "code",
      "source": [
        "\n",
        "X_train, X_test, y_train, y_test = train_test_split(X, y, test_size=0.20, random_state = 0)  "
      ],
      "execution_count": 0,
      "outputs": []
    },
    {
      "metadata": {
        "colab_type": "code",
        "id": "NjFWFFYlmK5x",
        "colab": {}
      },
      "cell_type": "code",
      "source": [
        ""
      ],
      "execution_count": 0,
      "outputs": []
    },
    {
      "metadata": {
        "colab_type": "text",
        "id": "AplQCONwr7wo"
      },
      "cell_type": "markdown",
      "source": [
        "** Sklearn KNN Classifier**"
      ]
    },
    {
      "metadata": {
        "colab_type": "text",
        "id": "rQGaGbKwmHNm"
      },
      "cell_type": "markdown",
      "source": [
        "\n",
        "\n",
        "---\n",
        "\n"
      ]
    },
    {
      "metadata": {
        "colab_type": "code",
        "id": "UfyrFCV2Ar8L",
        "outputId": "1a1e057e-f4fe-450f-85fb-462777fc1101",
        "colab": {
          "base_uri": "https://localhost:8080/",
          "height": 34
        }
      },
      "cell_type": "code",
      "source": [
        "\n",
        "scaler = StandardScaler()  \n",
        "scaler.fit(X_train)\n",
        "\n",
        "X_train = scaler.transform(X_train)  \n",
        "X_test = scaler.transform(X_test)  \n",
        "\n",
        "k = int(input('Enter k value  '))"
      ],
      "execution_count": 62,
      "outputs": [
        {
          "output_type": "stream",
          "text": [
            "Enter k value  5\n"
          ],
          "name": "stdout"
        }
      ]
    },
    {
      "metadata": {
        "colab_type": "code",
        "id": "2enFO4jzAuog",
        "outputId": "685fd1f9-8319-432b-a6fc-a0e3f39213d3",
        "colab": {
          "base_uri": "https://localhost:8080/",
          "height": 68
        }
      },
      "cell_type": "code",
      "source": [
        "#default distance metric in sklearn is minkowski \n",
        "classifier = KNeighborsClassifier(n_neighbors=k)  \n",
        "classifier.fit(X_train, y_train)  "
      ],
      "execution_count": 63,
      "outputs": [
        {
          "output_type": "execute_result",
          "data": {
            "text/plain": [
              "KNeighborsClassifier(algorithm='auto', leaf_size=30, metric='minkowski',\n",
              "           metric_params=None, n_jobs=None, n_neighbors=5, p=2,\n",
              "           weights='uniform')"
            ]
          },
          "metadata": {
            "tags": []
          },
          "execution_count": 63
        }
      ]
    },
    {
      "metadata": {
        "colab_type": "code",
        "id": "l3x3nbzsA-ui",
        "outputId": "68295417-7113-4916-dd55-85480ac7d231",
        "colab": {
          "base_uri": "https://localhost:8080/",
          "height": 170
        }
      },
      "cell_type": "code",
      "source": [
        "y_pred = classifier.predict(X_test)  \n",
        "y_pred"
      ],
      "execution_count": 64,
      "outputs": [
        {
          "output_type": "execute_result",
          "data": {
            "text/plain": [
              "array(['Iris-virginica', 'Iris-versicolor', 'Iris-setosa',\n",
              "       'Iris-virginica', 'Iris-setosa', 'Iris-virginica', 'Iris-setosa',\n",
              "       'Iris-versicolor', 'Iris-versicolor', 'Iris-versicolor',\n",
              "       'Iris-virginica', 'Iris-versicolor', 'Iris-versicolor',\n",
              "       'Iris-versicolor', 'Iris-versicolor', 'Iris-setosa',\n",
              "       'Iris-versicolor', 'Iris-versicolor', 'Iris-setosa', 'Iris-setosa',\n",
              "       'Iris-virginica', 'Iris-versicolor', 'Iris-setosa', 'Iris-setosa',\n",
              "       'Iris-virginica', 'Iris-setosa', 'Iris-setosa', 'Iris-versicolor',\n",
              "       'Iris-versicolor', 'Iris-setosa'], dtype=object)"
            ]
          },
          "metadata": {
            "tags": []
          },
          "execution_count": 64
        }
      ]
    },
    {
      "metadata": {
        "colab_type": "code",
        "id": "ehdjTOzEByw3",
        "outputId": "b656cc46-599b-43cd-d71b-f3e8343a9e8e",
        "colab": {
          "base_uri": "https://localhost:8080/",
          "height": 238
        }
      },
      "cell_type": "code",
      "source": [
        "# Confusion Matrix and Error\n",
        "print(confusion_matrix(y_test, y_pred))  \n",
        "print(classification_report(y_test, y_pred))  "
      ],
      "execution_count": 65,
      "outputs": [
        {
          "output_type": "stream",
          "text": [
            "[[11  0  0]\n",
            " [ 0 13  0]\n",
            " [ 0  0  6]]\n",
            "                 precision    recall  f1-score   support\n",
            "\n",
            "    Iris-setosa       1.00      1.00      1.00        11\n",
            "Iris-versicolor       1.00      1.00      1.00        13\n",
            " Iris-virginica       1.00      1.00      1.00         6\n",
            "\n",
            "      micro avg       1.00      1.00      1.00        30\n",
            "      macro avg       1.00      1.00      1.00        30\n",
            "   weighted avg       1.00      1.00      1.00        30\n",
            "\n"
          ],
          "name": "stdout"
        }
      ]
    },
    {
      "metadata": {
        "colab_type": "text",
        "id": "L1dA8Z9rfiBT"
      },
      "cell_type": "markdown",
      "source": [
        "**Using Support Vector Classiffication**\n",
        "A Support Vector Machine (SVM) is a discriminative classifier formally defined by a separating hyperplane. In other words, given labeled training data (supervised learning), the algorithm outputs an optimal hyperplane which categorizes new examples. In two dimentional space this hyperplane is a line dividing a plane in two parts where in each class lay in either side\n",
        "\n"
      ]
    },
    {
      "metadata": {
        "colab_type": "code",
        "id": "2cnv9nZ-gkyA",
        "colab": {}
      },
      "cell_type": "code",
      "source": [
        "from sklearn.preprocessing import StandardScaler\n",
        "from sklearn.model_selection import cross_val_score"
      ],
      "execution_count": 0,
      "outputs": []
    },
    {
      "metadata": {
        "colab_type": "code",
        "id": "k_cXoRwvg2Hk",
        "colab": {}
      },
      "cell_type": "code",
      "source": [
        "\n",
        "# sc = StandardScaler()\n",
        "# sc.fit(X_train)\n",
        "# X_train_std = sc.transform(X_train)\n",
        "# X_test_std = sc.transform(X_test)\n",
        "\n",
        "#X_train_std and X_test_std are the scale dataset  to be used "
      ],
      "execution_count": 0,
      "outputs": []
    },
    {
      "metadata": {
        "colab_type": "code",
        "id": "Kk9C0_LKhYeP",
        "colab": {}
      },
      "cell_type": "code",
      "source": [
        "from sklearn.svm import  SVC"
      ],
      "execution_count": 0,
      "outputs": []
    },
    {
      "metadata": {
        "colab_type": "code",
        "id": "-U4Uw-v0h1L3",
        "outputId": "e202e160-11f8-4ace-9677-6ca4831b93a0",
        "colab": {
          "base_uri": "https://localhost:8080/",
          "height": 34
        }
      },
      "cell_type": "code",
      "source": [
        "svm = SVC(kernel ='rbf', random_state= 0, gamma=0.10,C=1.0)\n",
        "svm.fit(X_train, y_train)\n",
        "\n",
        "print('The accuracy of the SVM classifier on the training data {:.2f}'.format(svm.score(X_train, y_train)))\n"
      ],
      "execution_count": 69,
      "outputs": [
        {
          "output_type": "stream",
          "text": [
            "The accuracy of the SVM classifier on the training data 0.97\n"
          ],
          "name": "stdout"
        }
      ]
    },
    {
      "metadata": {
        "colab_type": "code",
        "id": "0pNJUNgCuy5b",
        "outputId": "1003379b-13ef-429b-a3b2-e93b0b26ca6e",
        "colab": {
          "base_uri": "https://localhost:8080/",
          "height": 170
        }
      },
      "cell_type": "code",
      "source": [
        "y_pred_svm = svm.predict(X_test)\n",
        "y_pred_svm"
      ],
      "execution_count": 74,
      "outputs": [
        {
          "output_type": "execute_result",
          "data": {
            "text/plain": [
              "array(['Iris-virginica', 'Iris-versicolor', 'Iris-setosa',\n",
              "       'Iris-virginica', 'Iris-setosa', 'Iris-virginica', 'Iris-setosa',\n",
              "       'Iris-versicolor', 'Iris-versicolor', 'Iris-versicolor',\n",
              "       'Iris-virginica', 'Iris-versicolor', 'Iris-versicolor',\n",
              "       'Iris-versicolor', 'Iris-versicolor', 'Iris-setosa',\n",
              "       'Iris-versicolor', 'Iris-versicolor', 'Iris-setosa', 'Iris-setosa',\n",
              "       'Iris-virginica', 'Iris-versicolor', 'Iris-setosa', 'Iris-setosa',\n",
              "       'Iris-virginica', 'Iris-setosa', 'Iris-setosa', 'Iris-versicolor',\n",
              "       'Iris-versicolor', 'Iris-setosa'], dtype=object)"
            ]
          },
          "metadata": {
            "tags": []
          },
          "execution_count": 74
        }
      ]
    },
    {
      "metadata": {
        "colab_type": "code",
        "id": "AHF-vIe_vFpm",
        "outputId": "13d3dea6-ee7e-49be-9a51-43f76d74f22c",
        "colab": {
          "base_uri": "https://localhost:8080/",
          "height": 238
        }
      },
      "cell_type": "code",
      "source": [
        "print(confusion_matrix(y_test, y_pred_svm))  \n",
        "print(classification_report(y_test, y_pred_svm))  "
      ],
      "execution_count": 75,
      "outputs": [
        {
          "output_type": "stream",
          "text": [
            "[[11  0  0]\n",
            " [ 0 13  0]\n",
            " [ 0  0  6]]\n",
            "                 precision    recall  f1-score   support\n",
            "\n",
            "    Iris-setosa       1.00      1.00      1.00        11\n",
            "Iris-versicolor       1.00      1.00      1.00        13\n",
            " Iris-virginica       1.00      1.00      1.00         6\n",
            "\n",
            "      micro avg       1.00      1.00      1.00        30\n",
            "      macro avg       1.00      1.00      1.00        30\n",
            "   weighted avg       1.00      1.00      1.00        30\n",
            "\n"
          ],
          "name": "stdout"
        }
      ]
    },
    {
      "metadata": {
        "colab_type": "code",
        "id": "_4i9vdFAin5d",
        "outputId": "a87ae10d-6d1b-434a-ca14-6eb6104dbdd9",
        "colab": {
          "base_uri": "https://localhost:8080/",
          "height": 34
        }
      },
      "cell_type": "code",
      "source": [
        "\n",
        "print('The accuracy of the SVM classifier on the test data {:.2f}'.format(svm.score(X_test, y_test)))\n"
      ],
      "execution_count": 76,
      "outputs": [
        {
          "output_type": "stream",
          "text": [
            "The accuracy of the SVM classifier on the test data 1.00\n"
          ],
          "name": "stdout"
        }
      ]
    },
    {
      "metadata": {
        "colab_type": "code",
        "id": "n3gn5zA_iky4",
        "colab": {}
      },
      "cell_type": "code",
      "source": [
        ""
      ],
      "execution_count": 0,
      "outputs": []
    },
    {
      "metadata": {
        "colab_type": "text",
        "id": "YiYvIS5SoXQE"
      },
      "cell_type": "markdown",
      "source": [
        "**Applying XGBoost**\n"
      ]
    },
    {
      "metadata": {
        "colab_type": "code",
        "id": "DvpAJ_jOoaTe",
        "colab": {}
      },
      "cell_type": "code",
      "source": [
        "import xgboost as xgb"
      ],
      "execution_count": 0,
      "outputs": []
    },
    {
      "metadata": {
        "colab_type": "code",
        "id": "OmDrDtRVoeWl",
        "colab": {}
      },
      "cell_type": "code",
      "source": [
        "xgb_clf = xgb.XGBClassifier()\n",
        "xgb_clf = xgb_clf.fit(X_train, y_train)"
      ],
      "execution_count": 0,
      "outputs": []
    },
    {
      "metadata": {
        "colab_type": "code",
        "id": "kX_PRgYIvS3j",
        "outputId": "b6324411-46ae-4a2e-fb5d-5594c5b1976a",
        "colab": {
          "base_uri": "https://localhost:8080/",
          "height": 170
        }
      },
      "cell_type": "code",
      "source": [
        "y_pred_xgb = xgb_clf.predict(X_test)\n",
        "y_pred_xgb"
      ],
      "execution_count": 79,
      "outputs": [
        {
          "output_type": "execute_result",
          "data": {
            "text/plain": [
              "array(['Iris-virginica', 'Iris-versicolor', 'Iris-setosa',\n",
              "       'Iris-virginica', 'Iris-setosa', 'Iris-virginica', 'Iris-setosa',\n",
              "       'Iris-versicolor', 'Iris-versicolor', 'Iris-versicolor',\n",
              "       'Iris-virginica', 'Iris-versicolor', 'Iris-versicolor',\n",
              "       'Iris-versicolor', 'Iris-versicolor', 'Iris-setosa',\n",
              "       'Iris-versicolor', 'Iris-versicolor', 'Iris-setosa', 'Iris-setosa',\n",
              "       'Iris-virginica', 'Iris-versicolor', 'Iris-setosa', 'Iris-setosa',\n",
              "       'Iris-virginica', 'Iris-setosa', 'Iris-setosa', 'Iris-versicolor',\n",
              "       'Iris-versicolor', 'Iris-setosa'], dtype=object)"
            ]
          },
          "metadata": {
            "tags": []
          },
          "execution_count": 79
        }
      ]
    },
    {
      "metadata": {
        "colab_type": "code",
        "id": "rfbY997KvdAO",
        "outputId": "7e450779-507b-4f20-e810-c08f73c23b79",
        "colab": {
          "base_uri": "https://localhost:8080/",
          "height": 238
        }
      },
      "cell_type": "code",
      "source": [
        "print(confusion_matrix(y_test, y_pred_xgb))  \n",
        "print(classification_report(y_test, y_pred_xgb))  "
      ],
      "execution_count": 80,
      "outputs": [
        {
          "output_type": "stream",
          "text": [
            "[[11  0  0]\n",
            " [ 0 13  0]\n",
            " [ 0  0  6]]\n",
            "                 precision    recall  f1-score   support\n",
            "\n",
            "    Iris-setosa       1.00      1.00      1.00        11\n",
            "Iris-versicolor       1.00      1.00      1.00        13\n",
            " Iris-virginica       1.00      1.00      1.00         6\n",
            "\n",
            "      micro avg       1.00      1.00      1.00        30\n",
            "      macro avg       1.00      1.00      1.00        30\n",
            "   weighted avg       1.00      1.00      1.00        30\n",
            "\n"
          ],
          "name": "stdout"
        }
      ]
    },
    {
      "metadata": {
        "colab_type": "code",
        "id": "Co8Dfc2Wo3dr",
        "outputId": "74bb5edf-f1a5-4b3d-e6ae-6147e7d044b8",
        "colab": {
          "base_uri": "https://localhost:8080/",
          "height": 34
        }
      },
      "cell_type": "code",
      "source": [
        "print('The accuracy of the  XGBoost classifier on the training data {:.2f}'.format(xgb_clf.score(X_train, y_train)))"
      ],
      "execution_count": 81,
      "outputs": [
        {
          "output_type": "stream",
          "text": [
            "The accuracy of the  XGBoost classifier on the training data 1.00\n"
          ],
          "name": "stdout"
        }
      ]
    },
    {
      "metadata": {
        "colab_type": "code",
        "id": "TBfTEBhjpHY4",
        "outputId": "fcabbda4-a001-468f-c267-9a410621646e",
        "colab": {
          "base_uri": "https://localhost:8080/",
          "height": 34
        }
      },
      "cell_type": "code",
      "source": [
        "print('The accuracy of the XGBoost classifier on the test data {:.2f}'.format(xgb_clf.score(X_test, y_test)))"
      ],
      "execution_count": 82,
      "outputs": [
        {
          "output_type": "stream",
          "text": [
            "The accuracy of the XGBoost classifier on the test data 1.00\n"
          ],
          "name": "stdout"
        }
      ]
    },
    {
      "metadata": {
        "colab_type": "code",
        "id": "BqVf_XzFpUsL",
        "colab": {}
      },
      "cell_type": "code",
      "source": [
        ""
      ],
      "execution_count": 0,
      "outputs": []
    },
    {
      "metadata": {
        "colab_type": "text",
        "id": "zZ7Q1UjepoI4"
      },
      "cell_type": "markdown",
      "source": [
        "**Applying Decision tree**\n",
        "A decision tree is a map of the possible outcomes of a series of related choices. It allows an individual or organization to weigh possible actions against one another based on their costs, probabilities, and benefits. They can can be used either to drive informal discussion or to map out an algorithm that predicts the best choice mathematically"
      ]
    },
    {
      "metadata": {
        "colab_type": "code",
        "id": "IkmHZs7Tplmg",
        "colab": {}
      },
      "cell_type": "code",
      "source": [
        "from sklearn import tree"
      ],
      "execution_count": 0,
      "outputs": []
    },
    {
      "metadata": {
        "colab_type": "code",
        "id": "x82NrZDkpw1Y",
        "outputId": "f10be492-12dc-4670-d499-ff58b430e05c",
        "colab": {
          "base_uri": "https://localhost:8080/",
          "height": 119
        }
      },
      "cell_type": "code",
      "source": [
        "\n",
        "# Using gini index to slip. max gain is more pure\n",
        "dtree = tree.DecisionTreeClassifier(criterion='gini')\n",
        "dtree.fit(X_train, y_train)"
      ],
      "execution_count": 84,
      "outputs": [
        {
          "output_type": "execute_result",
          "data": {
            "text/plain": [
              "DecisionTreeClassifier(class_weight=None, criterion='gini', max_depth=None,\n",
              "            max_features=None, max_leaf_nodes=None,\n",
              "            min_impurity_decrease=0.0, min_impurity_split=None,\n",
              "            min_samples_leaf=1, min_samples_split=2,\n",
              "            min_weight_fraction_leaf=0.0, presort=False, random_state=None,\n",
              "            splitter='best')"
            ]
          },
          "metadata": {
            "tags": []
          },
          "execution_count": 84
        }
      ]
    },
    {
      "metadata": {
        "colab_type": "code",
        "id": "qz-SNi6LvmeP",
        "outputId": "0eb499cb-4ecb-4c19-c5b1-816bbf25063a",
        "colab": {
          "base_uri": "https://localhost:8080/",
          "height": 170
        }
      },
      "cell_type": "code",
      "source": [
        "y_pred_dtree = dtree.predict(X_test)\n",
        "y_pred_dtree"
      ],
      "execution_count": 85,
      "outputs": [
        {
          "output_type": "execute_result",
          "data": {
            "text/plain": [
              "array(['Iris-virginica', 'Iris-versicolor', 'Iris-setosa',\n",
              "       'Iris-virginica', 'Iris-setosa', 'Iris-virginica', 'Iris-setosa',\n",
              "       'Iris-versicolor', 'Iris-versicolor', 'Iris-versicolor',\n",
              "       'Iris-virginica', 'Iris-versicolor', 'Iris-versicolor',\n",
              "       'Iris-versicolor', 'Iris-versicolor', 'Iris-setosa',\n",
              "       'Iris-versicolor', 'Iris-versicolor', 'Iris-setosa', 'Iris-setosa',\n",
              "       'Iris-virginica', 'Iris-versicolor', 'Iris-setosa', 'Iris-setosa',\n",
              "       'Iris-virginica', 'Iris-setosa', 'Iris-setosa', 'Iris-versicolor',\n",
              "       'Iris-versicolor', 'Iris-setosa'], dtype=object)"
            ]
          },
          "metadata": {
            "tags": []
          },
          "execution_count": 85
        }
      ]
    },
    {
      "metadata": {
        "colab_type": "code",
        "id": "hlj96OL8vvNR",
        "outputId": "49b50a14-15af-4c88-d3fd-64cf4ea0c602",
        "colab": {
          "base_uri": "https://localhost:8080/",
          "height": 238
        }
      },
      "cell_type": "code",
      "source": [
        "print(confusion_matrix(y_test, y_pred_dtree))  \n",
        "print(classification_report(y_test, y_pred_dtree))  "
      ],
      "execution_count": 86,
      "outputs": [
        {
          "output_type": "stream",
          "text": [
            "[[11  0  0]\n",
            " [ 0 13  0]\n",
            " [ 0  0  6]]\n",
            "                 precision    recall  f1-score   support\n",
            "\n",
            "    Iris-setosa       1.00      1.00      1.00        11\n",
            "Iris-versicolor       1.00      1.00      1.00        13\n",
            " Iris-virginica       1.00      1.00      1.00         6\n",
            "\n",
            "      micro avg       1.00      1.00      1.00        30\n",
            "      macro avg       1.00      1.00      1.00        30\n",
            "   weighted avg       1.00      1.00      1.00        30\n",
            "\n"
          ],
          "name": "stdout"
        }
      ]
    },
    {
      "metadata": {
        "colab_type": "code",
        "id": "JueCTsIgqO_G",
        "outputId": "bc0f9ad1-7a1c-44f3-a276-a2e8947dad81",
        "colab": {
          "base_uri": "https://localhost:8080/",
          "height": 34
        }
      },
      "cell_type": "code",
      "source": [
        "print('The accuracy of the  Decision tree classifier on the training data {:.2f}'.format(dtree.score(X_train, y_train)))"
      ],
      "execution_count": 87,
      "outputs": [
        {
          "output_type": "stream",
          "text": [
            "The accuracy of the  Decision tree classifier on the training data 1.00\n"
          ],
          "name": "stdout"
        }
      ]
    },
    {
      "metadata": {
        "colab_type": "code",
        "id": "7eEfCcwPqiQM",
        "outputId": "d4473720-030c-4314-897a-6f5e2be7d62a",
        "colab": {
          "base_uri": "https://localhost:8080/",
          "height": 34
        }
      },
      "cell_type": "code",
      "source": [
        "print('The accuracy of the  Decision tree classifier on the test data {:.2f}'.format(dtree.score(X_test, y_test)))"
      ],
      "execution_count": 88,
      "outputs": [
        {
          "output_type": "stream",
          "text": [
            "The accuracy of the  Decision tree classifier on the test data 1.00\n"
          ],
          "name": "stdout"
        }
      ]
    },
    {
      "metadata": {
        "colab_type": "text",
        "id": "dL6wkovWqcq1"
      },
      "cell_type": "markdown",
      "source": [
        ""
      ]
    },
    {
      "metadata": {
        "colab_type": "code",
        "id": "ipFT_-oSqZ47",
        "colab": {}
      },
      "cell_type": "code",
      "source": [
        ""
      ],
      "execution_count": 0,
      "outputs": []
    },
    {
      "metadata": {
        "colab_type": "text",
        "id": "8A5XyFxwqtYI"
      },
      "cell_type": "markdown",
      "source": [
        "**Appyling Random Forest**\n",
        "\n",
        "The basic idea is very similar to bagging in the sense that we bootstrap samples, so we take a resample of our training data set. And then we rebuild classification or regression trees on each of those bootstrap samples. The one difference is that at each split when we split the data each time in a classification tree, we also bootstrap the variables. In other words, only a subset of the variables is considered at each potential split. This makes for a diverse set of potential trees that can be built. And so the idea is we grow a large number of trees. For prediction, we either vote or average those trees in order to get the prediction for a new outcome"
      ]
    },
    {
      "metadata": {
        "colab_type": "code",
        "id": "Filpyb18q1h-",
        "colab": {}
      },
      "cell_type": "code",
      "source": [
        "from sklearn.ensemble import RandomForestClassifier"
      ],
      "execution_count": 0,
      "outputs": []
    },
    {
      "metadata": {
        "colab_type": "code",
        "id": "vRtZ9ctNrC02",
        "outputId": "7080fb7b-c5a0-4b47-f7ca-95273206aea2",
        "colab": {
          "base_uri": "https://localhost:8080/",
          "height": 190
        }
      },
      "cell_type": "code",
      "source": [
        "random_fclf = RandomForestClassifier()\n",
        "random_fclf.fit(X_train, y_train)"
      ],
      "execution_count": 90,
      "outputs": [
        {
          "output_type": "stream",
          "text": [
            "/usr/local/lib/python3.6/dist-packages/sklearn/ensemble/forest.py:246: FutureWarning: The default value of n_estimators will change from 10 in version 0.20 to 100 in 0.22.\n",
            "  \"10 in version 0.20 to 100 in 0.22.\", FutureWarning)\n"
          ],
          "name": "stderr"
        },
        {
          "output_type": "execute_result",
          "data": {
            "text/plain": [
              "RandomForestClassifier(bootstrap=True, class_weight=None, criterion='gini',\n",
              "            max_depth=None, max_features='auto', max_leaf_nodes=None,\n",
              "            min_impurity_decrease=0.0, min_impurity_split=None,\n",
              "            min_samples_leaf=1, min_samples_split=2,\n",
              "            min_weight_fraction_leaf=0.0, n_estimators=10, n_jobs=None,\n",
              "            oob_score=False, random_state=None, verbose=0,\n",
              "            warm_start=False)"
            ]
          },
          "metadata": {
            "tags": []
          },
          "execution_count": 90
        }
      ]
    },
    {
      "metadata": {
        "colab_type": "code",
        "id": "YgeGAyVNwBG8",
        "outputId": "32151616-37f8-400a-b4fb-01c760a17f25",
        "colab": {
          "base_uri": "https://localhost:8080/",
          "height": 170
        }
      },
      "cell_type": "code",
      "source": [
        "y_pred_rf = random_fclf.predict(X_test)\n",
        "y_pred_rf"
      ],
      "execution_count": 91,
      "outputs": [
        {
          "output_type": "execute_result",
          "data": {
            "text/plain": [
              "array(['Iris-virginica', 'Iris-versicolor', 'Iris-setosa',\n",
              "       'Iris-virginica', 'Iris-setosa', 'Iris-virginica', 'Iris-setosa',\n",
              "       'Iris-versicolor', 'Iris-versicolor', 'Iris-versicolor',\n",
              "       'Iris-virginica', 'Iris-versicolor', 'Iris-versicolor',\n",
              "       'Iris-versicolor', 'Iris-versicolor', 'Iris-setosa',\n",
              "       'Iris-versicolor', 'Iris-versicolor', 'Iris-setosa', 'Iris-setosa',\n",
              "       'Iris-virginica', 'Iris-versicolor', 'Iris-setosa', 'Iris-setosa',\n",
              "       'Iris-virginica', 'Iris-setosa', 'Iris-setosa', 'Iris-versicolor',\n",
              "       'Iris-versicolor', 'Iris-setosa'], dtype=object)"
            ]
          },
          "metadata": {
            "tags": []
          },
          "execution_count": 91
        }
      ]
    },
    {
      "metadata": {
        "colab_type": "code",
        "id": "99Ot9K4jv9cr",
        "outputId": "221e5c6b-0555-4f8d-82e8-40afb7e0ae15",
        "colab": {
          "base_uri": "https://localhost:8080/",
          "height": 238
        }
      },
      "cell_type": "code",
      "source": [
        "print(confusion_matrix(y_test,y_pred_rf))  \n",
        "print(classification_report(y_test, y_pred_rf))  "
      ],
      "execution_count": 92,
      "outputs": [
        {
          "output_type": "stream",
          "text": [
            "[[11  0  0]\n",
            " [ 0 13  0]\n",
            " [ 0  0  6]]\n",
            "                 precision    recall  f1-score   support\n",
            "\n",
            "    Iris-setosa       1.00      1.00      1.00        11\n",
            "Iris-versicolor       1.00      1.00      1.00        13\n",
            " Iris-virginica       1.00      1.00      1.00         6\n",
            "\n",
            "      micro avg       1.00      1.00      1.00        30\n",
            "      macro avg       1.00      1.00      1.00        30\n",
            "   weighted avg       1.00      1.00      1.00        30\n",
            "\n"
          ],
          "name": "stdout"
        }
      ]
    },
    {
      "metadata": {
        "colab_type": "code",
        "id": "ODxzFXZ4rTYi",
        "outputId": "12770332-c794-4114-c25e-d5e163d069b5",
        "colab": {
          "base_uri": "https://localhost:8080/",
          "height": 34
        }
      },
      "cell_type": "code",
      "source": [
        "print('The accuracy of the  Random forest classifier on the training data {:.2f}'.format(random_fclf.score(X_train, y_train)))"
      ],
      "execution_count": 93,
      "outputs": [
        {
          "output_type": "stream",
          "text": [
            "The accuracy of the  Random forest classifier on the training data 0.99\n"
          ],
          "name": "stdout"
        }
      ]
    },
    {
      "metadata": {
        "colab_type": "code",
        "id": "uM7nwIhkrb8O",
        "outputId": "864debc3-c02b-44dd-ed20-f3194e8bc6d0",
        "colab": {
          "base_uri": "https://localhost:8080/",
          "height": 34
        }
      },
      "cell_type": "code",
      "source": [
        "print('The accuracy of the  Random forest classifier on the test data {:.2f}'.format(random_fclf.score(X_test, y_test)))"
      ],
      "execution_count": 94,
      "outputs": [
        {
          "output_type": "stream",
          "text": [
            "The accuracy of the  Random forest classifier on the test data 1.00\n"
          ],
          "name": "stdout"
        }
      ]
    },
    {
      "metadata": {
        "colab_type": "text",
        "id": "8q65ODD3d0Jj"
      },
      "cell_type": "markdown",
      "source": [
        "**logistic regression**\n",
        "Logistic regression is a classification algorithm used to assign observations to a discrete set of classes. Unlike linear regression which outputs continuous number values, logistic regression transforms its output using the logistic sigmoid function to return a probability value which can then be mapped to two or more discrete classes"
      ]
    },
    {
      "metadata": {
        "colab_type": "code",
        "id": "IP4cF8FCraPM",
        "colab": {}
      },
      "cell_type": "code",
      "source": [
        "from sklearn.linear_model import LogisticRegression\n",
        "logreg = LogisticRegression(C=1e5, solver='lbfgs', multi_class='multinomial')"
      ],
      "execution_count": 0,
      "outputs": []
    },
    {
      "metadata": {
        "id": "XvyRKtk8zYjj",
        "colab_type": "text"
      },
      "cell_type": "markdown",
      "source": [
        ""
      ]
    },
    {
      "metadata": {
        "colab_type": "code",
        "id": "EOnHjJPifDwb",
        "outputId": "70f489e0-bf79-4192-efb3-57577858f360",
        "colab": {
          "base_uri": "https://localhost:8080/",
          "height": 102
        }
      },
      "cell_type": "code",
      "source": [
        "logreg.fit(X_train, y_train)"
      ],
      "execution_count": 96,
      "outputs": [
        {
          "output_type": "execute_result",
          "data": {
            "text/plain": [
              "LogisticRegression(C=100000.0, class_weight=None, dual=False,\n",
              "          fit_intercept=True, intercept_scaling=1, max_iter=100,\n",
              "          multi_class='multinomial', n_jobs=None, penalty='l2',\n",
              "          random_state=None, solver='lbfgs', tol=0.0001, verbose=0,\n",
              "          warm_start=False)"
            ]
          },
          "metadata": {
            "tags": []
          },
          "execution_count": 96
        }
      ]
    },
    {
      "metadata": {
        "colab_type": "code",
        "id": "fSEJw9vRfOXu",
        "outputId": "9faa9264-ab4e-455a-b755-3bf3792151ee",
        "colab": {
          "base_uri": "https://localhost:8080/",
          "height": 170
        }
      },
      "cell_type": "code",
      "source": [
        "y_pred_lr = logreg.predict(X_test)\n",
        "y_pred_lr"
      ],
      "execution_count": 97,
      "outputs": [
        {
          "output_type": "execute_result",
          "data": {
            "text/plain": [
              "array(['Iris-virginica', 'Iris-versicolor', 'Iris-setosa',\n",
              "       'Iris-virginica', 'Iris-setosa', 'Iris-virginica', 'Iris-setosa',\n",
              "       'Iris-versicolor', 'Iris-versicolor', 'Iris-versicolor',\n",
              "       'Iris-virginica', 'Iris-versicolor', 'Iris-versicolor',\n",
              "       'Iris-versicolor', 'Iris-versicolor', 'Iris-setosa',\n",
              "       'Iris-versicolor', 'Iris-versicolor', 'Iris-setosa', 'Iris-setosa',\n",
              "       'Iris-virginica', 'Iris-versicolor', 'Iris-setosa', 'Iris-setosa',\n",
              "       'Iris-virginica', 'Iris-setosa', 'Iris-setosa', 'Iris-versicolor',\n",
              "       'Iris-versicolor', 'Iris-setosa'], dtype=object)"
            ]
          },
          "metadata": {
            "tags": []
          },
          "execution_count": 97
        }
      ]
    },
    {
      "metadata": {
        "colab_type": "code",
        "id": "CR-I2g-Tfffg",
        "outputId": "2a947021-d28b-4fe1-a7e1-b1b3959cdc3e",
        "colab": {
          "base_uri": "https://localhost:8080/",
          "height": 238
        }
      },
      "cell_type": "code",
      "source": [
        "print(confusion_matrix(y_test,y_pred_lr))  \n",
        "print(classification_report(y_test, y_pred_lr))  "
      ],
      "execution_count": 98,
      "outputs": [
        {
          "output_type": "stream",
          "text": [
            "[[11  0  0]\n",
            " [ 0 13  0]\n",
            " [ 0  0  6]]\n",
            "                 precision    recall  f1-score   support\n",
            "\n",
            "    Iris-setosa       1.00      1.00      1.00        11\n",
            "Iris-versicolor       1.00      1.00      1.00        13\n",
            " Iris-virginica       1.00      1.00      1.00         6\n",
            "\n",
            "      micro avg       1.00      1.00      1.00        30\n",
            "      macro avg       1.00      1.00      1.00        30\n",
            "   weighted avg       1.00      1.00      1.00        30\n",
            "\n"
          ],
          "name": "stdout"
        }
      ]
    },
    {
      "metadata": {
        "colab_type": "code",
        "id": "_RdqI_TFfwPX",
        "outputId": "91525936-69b4-4db4-f0ec-d780490213b0",
        "colab": {
          "base_uri": "https://localhost:8080/",
          "height": 34
        }
      },
      "cell_type": "code",
      "source": [
        "print('The accuracy of the Logistic regression  classifier on the training data {:.2f}'.format(logreg.score(X_train, y_train)))"
      ],
      "execution_count": 99,
      "outputs": [
        {
          "output_type": "stream",
          "text": [
            "The accuracy of the Logistic regression  classifier on the training data 0.98\n"
          ],
          "name": "stdout"
        }
      ]
    },
    {
      "metadata": {
        "colab_type": "code",
        "id": "uTqISNi0f_jB",
        "outputId": "92a94159-3fcb-4419-cebb-2cec250c94a5",
        "colab": {
          "base_uri": "https://localhost:8080/",
          "height": 34
        }
      },
      "cell_type": "code",
      "source": [
        "print('The accuracy of the Logistic regression  classifier on the test data {:.2f}'.format(logreg.score(X_test, y_test)))"
      ],
      "execution_count": 100,
      "outputs": [
        {
          "output_type": "stream",
          "text": [
            "The accuracy of the Logistic regression  classifier on the test data 1.00\n"
          ],
          "name": "stdout"
        }
      ]
    },
    {
      "metadata": {
        "colab_type": "text",
        "id": "4l0Ro6_cg7GP"
      },
      "cell_type": "markdown",
      "source": [
        "**Using Neural Networks**\n",
        "\n",
        "A neural network is a graph of neurons. A neuron has inputs and outputs. Similarly, a neural network has inputs and outputs. The inputs and outputs of a neural network are represented by input neurons and output neurons. Input neurons have no predecessor neurons, but do have an outpu"
      ]
    },
    {
      "metadata": {
        "colab_type": "code",
        "id": "qxlFnh9Mg_3M",
        "colab": {}
      },
      "cell_type": "code",
      "source": [
        "from sklearn.neural_network import MLPClassifier"
      ],
      "execution_count": 0,
      "outputs": []
    },
    {
      "metadata": {
        "colab_type": "code",
        "id": "50ixQqOhhJAN",
        "colab": {}
      },
      "cell_type": "code",
      "source": [
        "nn_clf = MLPClassifier(solver='lbfgs', alpha=1e-5, hidden_layer_sizes=(5, 2), random_state=1)"
      ],
      "execution_count": 0,
      "outputs": []
    },
    {
      "metadata": {
        "colab_type": "code",
        "id": "-vdFCfqthR6i",
        "outputId": "40fca7ee-d4e3-4545-993f-f4fe0836f865",
        "colab": {
          "base_uri": "https://localhost:8080/",
          "height": 136
        }
      },
      "cell_type": "code",
      "source": [
        "#using Relu activation function: Rectify linear unit\n",
        "nn_clf.fit(X_train, y_train)"
      ],
      "execution_count": 103,
      "outputs": [
        {
          "output_type": "execute_result",
          "data": {
            "text/plain": [
              "MLPClassifier(activation='relu', alpha=1e-05, batch_size='auto', beta_1=0.9,\n",
              "       beta_2=0.999, early_stopping=False, epsilon=1e-08,\n",
              "       hidden_layer_sizes=(5, 2), learning_rate='constant',\n",
              "       learning_rate_init=0.001, max_iter=200, momentum=0.9,\n",
              "       n_iter_no_change=10, nesterovs_momentum=True, power_t=0.5,\n",
              "       random_state=1, shuffle=True, solver='lbfgs', tol=0.0001,\n",
              "       validation_fraction=0.1, verbose=False, warm_start=False)"
            ]
          },
          "metadata": {
            "tags": []
          },
          "execution_count": 103
        }
      ]
    },
    {
      "metadata": {
        "colab_type": "code",
        "id": "4A2NlvUoiTh7",
        "outputId": "37af5f16-3b1f-447d-8e43-a623961ece36",
        "colab": {
          "base_uri": "https://localhost:8080/",
          "height": 170
        }
      },
      "cell_type": "code",
      "source": [
        "y_pred_nn = nn_clf.predict(X_test)\n",
        "y_pred_nn"
      ],
      "execution_count": 104,
      "outputs": [
        {
          "output_type": "execute_result",
          "data": {
            "text/plain": [
              "array(['Iris-virginica', 'Iris-versicolor', 'Iris-setosa',\n",
              "       'Iris-virginica', 'Iris-setosa', 'Iris-virginica', 'Iris-setosa',\n",
              "       'Iris-versicolor', 'Iris-versicolor', 'Iris-versicolor',\n",
              "       'Iris-virginica', 'Iris-versicolor', 'Iris-versicolor',\n",
              "       'Iris-versicolor', 'Iris-versicolor', 'Iris-setosa',\n",
              "       'Iris-versicolor', 'Iris-versicolor', 'Iris-setosa', 'Iris-setosa',\n",
              "       'Iris-virginica', 'Iris-versicolor', 'Iris-setosa', 'Iris-setosa',\n",
              "       'Iris-virginica', 'Iris-setosa', 'Iris-setosa', 'Iris-versicolor',\n",
              "       'Iris-versicolor', 'Iris-setosa'], dtype='<U15')"
            ]
          },
          "metadata": {
            "tags": []
          },
          "execution_count": 104
        }
      ]
    },
    {
      "metadata": {
        "id": "Tbs9cuwnx4Ai",
        "colab_type": "code",
        "colab": {
          "base_uri": "https://localhost:8080/",
          "height": 34
        },
        "outputId": "47fbd27d-114e-4868-c311-68368bebadaa"
      },
      "cell_type": "code",
      "source": [
        "print('The accuracy of the Neural nets  classifier on the training data {:.2f}'.format(nn_clf.score(X_train, y_train)))"
      ],
      "execution_count": 105,
      "outputs": [
        {
          "output_type": "stream",
          "text": [
            "The accuracy of the Neural nets  classifier on the training data 0.98\n"
          ],
          "name": "stdout"
        }
      ]
    },
    {
      "metadata": {
        "id": "eXjefvSUy75f",
        "colab_type": "code",
        "colab": {
          "base_uri": "https://localhost:8080/",
          "height": 34
        },
        "outputId": "1becb070-09bf-4d4c-ae11-5f752d6e0ab9"
      },
      "cell_type": "code",
      "source": [
        "print('The accuracy of the Neural Net classifier on testing data {:.2f}'.format(nn_clf.score(X_test, y_test)))"
      ],
      "execution_count": 106,
      "outputs": [
        {
          "output_type": "stream",
          "text": [
            "The accuracy of the Neural Net classifier on testing data 1.00\n"
          ],
          "name": "stdout"
        }
      ]
    },
    {
      "metadata": {
        "colab_type": "code",
        "id": "4hf2Vt43ifZG",
        "outputId": "b18e077e-3b5b-4b28-bf89-6a4a2922e2bc",
        "colab": {
          "base_uri": "https://localhost:8080/",
          "height": 238
        }
      },
      "cell_type": "code",
      "source": [
        "print(confusion_matrix(y_test,y_pred_nn))  \n",
        "print(classification_report(y_test, y_pred_nn)) "
      ],
      "execution_count": 107,
      "outputs": [
        {
          "output_type": "stream",
          "text": [
            "[[11  0  0]\n",
            " [ 0 13  0]\n",
            " [ 0  0  6]]\n",
            "                 precision    recall  f1-score   support\n",
            "\n",
            "    Iris-setosa       1.00      1.00      1.00        11\n",
            "Iris-versicolor       1.00      1.00      1.00        13\n",
            " Iris-virginica       1.00      1.00      1.00         6\n",
            "\n",
            "      micro avg       1.00      1.00      1.00        30\n",
            "      macro avg       1.00      1.00      1.00        30\n",
            "   weighted avg       1.00      1.00      1.00        30\n",
            "\n"
          ],
          "name": "stdout"
        }
      ]
    },
    {
      "metadata": {
        "colab_type": "code",
        "id": "ySh7xczFi6Aa",
        "outputId": "3ba42715-8588-4882-e524-beea35a13a6b",
        "colab": {
          "base_uri": "https://localhost:8080/",
          "height": 204
        }
      },
      "cell_type": "code",
      "source": [
        "# contains the weight matrices that constitute the model parameters\n",
        "nn_clf.coefs_"
      ],
      "execution_count": 108,
      "outputs": [
        {
          "output_type": "execute_result",
          "data": {
            "text/plain": [
              "[array([[ 1.62373883,  0.05580332,  0.23170449,  1.25882483, -0.35682622],\n",
              "        [ 1.59678514, -1.10930254,  0.94332851,  0.01178464,  1.61536522],\n",
              "        [ 1.62017052,  1.7321455 ,  0.06594353, -2.09925759, -1.66435024],\n",
              "        [ 1.79389701,  1.1537556 ,  0.52285877, -1.02537398, -1.79553791]]),\n",
              " array([[-0.82361049, -0.45921647],\n",
              "        [-2.37107589, -0.48770725],\n",
              "        [ 0.59511221,  0.1299054 ],\n",
              "        [-0.24923995,  1.16900725],\n",
              "        [ 1.64797239,  4.62349775]]),\n",
              " array([[ 0.91100475, -1.02765047,  0.34242632],\n",
              "        [ 2.03693467,  1.68222146, -2.58547841]])]"
            ]
          },
          "metadata": {
            "tags": []
          },
          "execution_count": 108
        }
      ]
    },
    {
      "metadata": {
        "colab_type": "text",
        "id": "b5tWjh38sYTp"
      },
      "cell_type": "markdown",
      "source": [
        "**As we can Observe the accuracy was higher  in the training data sets.  In order to improve the accuracy, for the lower one, cros validation technique would probably result in higher accuracy for all.**So far we saw that by re-sampling imbalanced dataset and by choosing the right machine learning algorithm we can improve the prediction performance for the iris class. \n",
        "**Xgb Classifer** is optimized for both memory efficiency and training speed\n",
        "\n",
        "**Knn **Using 5 nearest neighboor as it is the optimal k using the euclidian distance\n",
        "SVC used the rbf kernel to seprate the different class with the maximun distance as far from each other. Easy to implement and fast prediction\n",
        "\n",
        "**The decision tree** used the gini index to slip the data, as it lead to most optimal pure form of data set based on the maxium gain out of all of the feature.\n",
        "\n",
        "**Logistic regression**: uses the one-vs-rest (OvR) scheme if the ‘multi_class’ option is set to ‘ovr’, and uses the cross- entropy loss if the ‘multi_class’ option is set to ‘multinomial’.\n",
        "\n",
        "**Random forest**  : used number of decision tree classifiers on various sub-samples of the dataset and uses averaging to improve the predictive accuracy and control over-fitting\n",
        "\n",
        "**Neural Network **used(5, 2) hidden layer to compute the forward propagation step and as well as the back propagation using gradient descent to unpdate the weight. Used the relu activation function to decide on the firing of the neuron. More accurate but slow training speed.\n",
        "\n"
      ]
    },
    {
      "metadata": {
        "colab_type": "code",
        "id": "ACd3Py_As9zI",
        "colab": {}
      },
      "cell_type": "code",
      "source": [
        ""
      ],
      "execution_count": 0,
      "outputs": []
    }
  ]
}